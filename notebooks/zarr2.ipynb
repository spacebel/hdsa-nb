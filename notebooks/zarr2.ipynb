{
 "cells": [
  {
   "cell_type": "markdown",
   "id": "1b655662-1274-426d-b7a3-6591f66c2363",
   "metadata": {},
   "source": [
    "## Import"
   ]
  },
  {
   "cell_type": "code",
   "execution_count": 1,
   "id": "b5b2f080",
   "metadata": {},
   "outputs": [],
   "source": [
    "import xarray as xr\r\n",
    "import matplotlib.pyplot as plt \r\n",
    "import fssp\n",
    "import numpy as npec\r\n",
    "from datetime import datetime"
   ]
  },
  {
   "cell_type": "markdown",
   "id": "928b24d1-5c6c-4384-9bdf-4edf544290f9",
   "metadata": {},
   "source": [
    "## Subset"
   ]
  },
  {
   "cell_type": "code",
   "execution_count": 3,
   "id": "b0b43af7",
   "metadata": {},
   "outputs": [
    {
     "data": {
      "text/plain": [
       "[<matplotlib.lines.Line2D at 0x7f8f2d11ff10>]"
      ]
     },
     "execution_count": 3,
     "metadata": {},
     "output_type": "execute_result"
    },
    {
     "data": {
      "image/png": "[encoded data removed]",
      "text/plain": [
       "<Figure size 432x288 with 1 Axes>"
      ]
     },
     "metadata": {
      "needs_background": "light"
     },
     "output_type": "display_data"
    }
   ],
   "source": [
    "mapper = fsspec.get_mapper('s3://gstp-benchmark/zarr/s2_hypercube.zarr/', anon=True)\r\n",
    "dataset = xr.open_zarr(mapper)\r\n",
    "start = datetime.fromisoformat(\"2020-08-01\")\r\n",
    "end = datetime.fromisoformat(\"2020-08-31\")\r\n",
    "timeserie = dataset['Band1'].sel(Time=slice(start,end), Longitude=199995, Latitude=4499985).compute()\r\n",
    "timeserie.plot.line(marker=\"o\")"
   ]
  },
  {
   "cell_type": "markdown",
   "id": "3b4e43e7-8e01-4d57-b1b5-f1addf1989d4",
   "metadata": {},
   "source": [
    "## Condense"
   ]
  },
  {
   "cell_type": "code",
   "execution_count": 12,
   "id": "20fbdb2d-1776-4141-a057-238997d3bcbd",
   "metadata": {},
   "outputs": [
    {
     "name": "stdout",
     "output_type": "stream",
     "text": [
      "<xarray.DataArray 'Time' (Time: 10)>\n",
      "array(['2020-08-04T11:38:47.000', '2020-08-24T15:04:32.000',\n",
      "       '2020-09-03T13:22:33.000', '2020-09-13T13:25:24.000',\n",
      "       '2020-09-23T13:22:28.000', '2020-10-03T13:23:25.000',\n",
      "       '2020-10-19T14:38:16.000', '2020-10-23T13:21:54.000',\n",
      "       '2020-11-02T13:23:29.000', '2020-11-12T13:25:51.000'],\n",
      "      dtype='datetime64[ms]')\n",
      "Coordinates:\n",
      "  * Time     (Time) datetime64[ms] 2020-08-04T11:38:47 ... 2020-11-12T13:25:51\n",
      "[0 2 4 6 8]\n",
      "Results\n",
      "<xarray.DataArray 'Band1' (Time: 5)>\n",
      "array([411., 398., 498., 705., 392.], dtype=float32)\n",
      "Coordinates:\n",
      "    Latitude   float64 4.5e+06\n",
      "    Longitude  float64 2e+05\n",
      "  * Time       (Time) datetime64[ms] 2020-08-04T11:38:47 ... 2020-11-02T13:23:29\n"
     ]
    }
   ],
   "source": [
    "import numpy as np\n",
    "import xarray as xr\n",
    "import fsspec\n",
    "\n",
    "# Open the Zarr dataset\n",
    "mapper = fsspec.get_mapper('s3://gstp-benchmark/zarr/s2_hypercube.zarr/', anon=True)\n",
    "dataset = xr.open_zarr(mapper)\n",
    "\n",
    "print(dataset.Time)\n",
    "\n",
    "# Compute the list of desired indexes based on shape and iteration step\n",
    "max_index = dataset.Time.size\n",
    "indexes = np.arange(0,max_index,2) # From 0 to Max with a step of 10\n",
    "print(indexes) \n",
    "# Condense band1 \n",
    "condensed_band1 = dataset['Band1'].isel(Time=indexes)\n",
    "print('Results')\n",
    "print(condensed_band1[dict(Latitude=0,Longitude=0)])"
   ]
  },
  {
   "cell_type": "code",
   "execution_count": 28,
   "id": "afe162da-09c4-4699-bcb5-0089a17a70f7",
   "metadata": {},
   "outputs": [
    {
     "data": {
      "text/plain": [
       "10"
      ]
     },
     "execution_count": 28,
     "metadata": {},
     "output_type": "execute_result"
    }
   ],
   "source": [
    "dataset.Time.size\n"
   ]
  },
  {
   "cell_type": "code",
   "execution_count": 14,
   "id": "33cab704-5831-405a-9054-28c8994286a9",
   "metadata": {},
   "outputs": [
    {
     "ename": "KeyError",
     "evalue": "'Time is not a valid dimension or coordinate'",
     "output_type": "error",
     "traceback": [
      "\u001b[0;31m---------------------------------------------------------------------------\u001b[0m",
      "\u001b[0;31mKeyError\u001b[0m                                  Traceback (most recent call last)",
      "\u001b[0;32m/srv/conda/envs/notebook/lib/python3.7/site-packages/xarray/core/indexing.py\u001b[0m in \u001b[0;36mgroup_indexers_by_index\u001b[0;34m(data_obj, indexers, method, tolerance)\u001b[0m\n\u001b[1;32m     68\u001b[0m         \u001b[0;32mtry\u001b[0m\u001b[0;34m:\u001b[0m\u001b[0;34m\u001b[0m\u001b[0;34m\u001b[0m\u001b[0m\n\u001b[0;32m---> 69\u001b[0;31m             \u001b[0mindex\u001b[0m \u001b[0;34m=\u001b[0m \u001b[0mxindexes\u001b[0m\u001b[0;34m[\u001b[0m\u001b[0mkey\u001b[0m\u001b[0;34m]\u001b[0m\u001b[0;34m\u001b[0m\u001b[0;34m\u001b[0m\u001b[0m\n\u001b[0m\u001b[1;32m     70\u001b[0m             \u001b[0mcoord\u001b[0m \u001b[0;34m=\u001b[0m \u001b[0mdata_obj\u001b[0m\u001b[0;34m.\u001b[0m\u001b[0mcoords\u001b[0m\u001b[0;34m[\u001b[0m\u001b[0mkey\u001b[0m\u001b[0;34m]\u001b[0m\u001b[0;34m\u001b[0m\u001b[0;34m\u001b[0m\u001b[0m\n",
      "\u001b[0;31mKeyError\u001b[0m: 'Time'",
      "\nDuring handling of the above exception, another exception occurred:\n",
      "\u001b[0;31mKeyError\u001b[0m                                  Traceback (most recent call last)",
      "\u001b[0;32m/tmp/ipykernel_131/648078118.py\u001b[0m in \u001b[0;36m<module>\u001b[0;34m\u001b[0m\n\u001b[1;32m      9\u001b[0m \u001b[0;31m# Subset on the time axis\u001b[0m\u001b[0;34m\u001b[0m\u001b[0;34m\u001b[0m\u001b[0;34m\u001b[0m\u001b[0m\n\u001b[1;32m     10\u001b[0m \u001b[0mtime\u001b[0m \u001b[0;34m=\u001b[0m \u001b[0mdatetime\u001b[0m\u001b[0;34m.\u001b[0m\u001b[0mfromisoformat\u001b[0m\u001b[0;34m(\u001b[0m\u001b[0;34m'2020-08-04T11:38:47'\u001b[0m\u001b[0;34m)\u001b[0m\u001b[0;34m.\u001b[0m\u001b[0mtimestamp\u001b[0m\u001b[0;34m(\u001b[0m\u001b[0;34m)\u001b[0m\u001b[0;34m\u001b[0m\u001b[0;34m\u001b[0m\u001b[0m\n\u001b[0;32m---> 11\u001b[0;31m \u001b[0msubset\u001b[0m \u001b[0;34m=\u001b[0m \u001b[0mdataset\u001b[0m\u001b[0;34m[\u001b[0m\u001b[0;34m'Band1'\u001b[0m\u001b[0;34m]\u001b[0m\u001b[0;34m.\u001b[0m\u001b[0msel\u001b[0m\u001b[0;34m(\u001b[0m\u001b[0mTime\u001b[0m\u001b[0;34m=\u001b[0m\u001b[0mtime\u001b[0m\u001b[0;34m)\u001b[0m\u001b[0;34m.\u001b[0m\u001b[0mcompute\u001b[0m\u001b[0;34m(\u001b[0m\u001b[0;34m)\u001b[0m\u001b[0;34m\u001b[0m\u001b[0;34m\u001b[0m\u001b[0m\n\u001b[0m\u001b[1;32m     12\u001b[0m \u001b[0;34m\u001b[0m\u001b[0m\n\u001b[1;32m     13\u001b[0m \u001b[0;31m# Generate the plot from the subset (pseudocolor plot using predefined colormap 'terrain')\u001b[0m\u001b[0;34m\u001b[0m\u001b[0;34m\u001b[0m\u001b[0;34m\u001b[0m\u001b[0m\n",
      "\u001b[0;32m/srv/conda/envs/notebook/lib/python3.7/site-packages/xarray/core/dataarray.py\u001b[0m in \u001b[0;36msel\u001b[0;34m(self, indexers, method, tolerance, drop, **indexers_kwargs)\u001b[0m\n\u001b[1;32m   1318\u001b[0m             \u001b[0mmethod\u001b[0m\u001b[0;34m=\u001b[0m\u001b[0mmethod\u001b[0m\u001b[0;34m,\u001b[0m\u001b[0;34m\u001b[0m\u001b[0;34m\u001b[0m\u001b[0m\n\u001b[1;32m   1319\u001b[0m             \u001b[0mtolerance\u001b[0m\u001b[0;34m=\u001b[0m\u001b[0mtolerance\u001b[0m\u001b[0;34m,\u001b[0m\u001b[0;34m\u001b[0m\u001b[0;34m\u001b[0m\u001b[0m\n\u001b[0;32m-> 1320\u001b[0;31m             \u001b[0;34m**\u001b[0m\u001b[0mindexers_kwargs\u001b[0m\u001b[0;34m,\u001b[0m\u001b[0;34m\u001b[0m\u001b[0;34m\u001b[0m\u001b[0m\n\u001b[0m\u001b[1;32m   1321\u001b[0m         )\n\u001b[1;32m   1322\u001b[0m         \u001b[0;32mreturn\u001b[0m \u001b[0mself\u001b[0m\u001b[0;34m.\u001b[0m\u001b[0m_from_temp_dataset\u001b[0m\u001b[0;34m(\u001b[0m\u001b[0mds\u001b[0m\u001b[0;34m)\u001b[0m\u001b[0;34m\u001b[0m\u001b[0;34m\u001b[0m\u001b[0m\n",
      "\u001b[0;32m/srv/conda/envs/notebook/lib/python3.7/site-packages/xarray/core/dataset.py\u001b[0m in \u001b[0;36msel\u001b[0;34m(self, indexers, method, tolerance, drop, **indexers_kwargs)\u001b[0m\n\u001b[1;32m   2473\u001b[0m         \u001b[0mindexers\u001b[0m \u001b[0;34m=\u001b[0m \u001b[0meither_dict_or_kwargs\u001b[0m\u001b[0;34m(\u001b[0m\u001b[0mindexers\u001b[0m\u001b[0;34m,\u001b[0m \u001b[0mindexers_kwargs\u001b[0m\u001b[0;34m,\u001b[0m \u001b[0;34m\"sel\"\u001b[0m\u001b[0;34m)\u001b[0m\u001b[0;34m\u001b[0m\u001b[0;34m\u001b[0m\u001b[0m\n\u001b[1;32m   2474\u001b[0m         pos_indexers, new_indexes = remap_label_indexers(\n\u001b[0;32m-> 2475\u001b[0;31m             \u001b[0mself\u001b[0m\u001b[0;34m,\u001b[0m \u001b[0mindexers\u001b[0m\u001b[0;34m=\u001b[0m\u001b[0mindexers\u001b[0m\u001b[0;34m,\u001b[0m \u001b[0mmethod\u001b[0m\u001b[0;34m=\u001b[0m\u001b[0mmethod\u001b[0m\u001b[0;34m,\u001b[0m \u001b[0mtolerance\u001b[0m\u001b[0;34m=\u001b[0m\u001b[0mtolerance\u001b[0m\u001b[0;34m\u001b[0m\u001b[0;34m\u001b[0m\u001b[0m\n\u001b[0m\u001b[1;32m   2476\u001b[0m         )\n\u001b[1;32m   2477\u001b[0m         \u001b[0mresult\u001b[0m \u001b[0;34m=\u001b[0m \u001b[0mself\u001b[0m\u001b[0;34m.\u001b[0m\u001b[0misel\u001b[0m\u001b[0;34m(\u001b[0m\u001b[0mindexers\u001b[0m\u001b[0;34m=\u001b[0m\u001b[0mpos_indexers\u001b[0m\u001b[0;34m,\u001b[0m \u001b[0mdrop\u001b[0m\u001b[0;34m=\u001b[0m\u001b[0mdrop\u001b[0m\u001b[0;34m)\u001b[0m\u001b[0;34m\u001b[0m\u001b[0;34m\u001b[0m\u001b[0m\n",
      "\u001b[0;32m/srv/conda/envs/notebook/lib/python3.7/site-packages/xarray/core/coordinates.py\u001b[0m in \u001b[0;36mremap_label_indexers\u001b[0;34m(obj, indexers, method, tolerance, **indexers_kwargs)\u001b[0m\n\u001b[1;32m    420\u001b[0m \u001b[0;34m\u001b[0m\u001b[0m\n\u001b[1;32m    421\u001b[0m     pos_indexers, new_indexes = indexing.remap_label_indexers(\n\u001b[0;32m--> 422\u001b[0;31m         \u001b[0mobj\u001b[0m\u001b[0;34m,\u001b[0m \u001b[0mv_indexers\u001b[0m\u001b[0;34m,\u001b[0m \u001b[0mmethod\u001b[0m\u001b[0;34m=\u001b[0m\u001b[0mmethod\u001b[0m\u001b[0;34m,\u001b[0m \u001b[0mtolerance\u001b[0m\u001b[0;34m=\u001b[0m\u001b[0mtolerance\u001b[0m\u001b[0;34m\u001b[0m\u001b[0;34m\u001b[0m\u001b[0m\n\u001b[0m\u001b[1;32m    423\u001b[0m     )\n\u001b[1;32m    424\u001b[0m     \u001b[0;31m# attach indexer's coordinate to pos_indexers\u001b[0m\u001b[0;34m\u001b[0m\u001b[0;34m\u001b[0m\u001b[0;34m\u001b[0m\u001b[0m\n",
      "\u001b[0;32m/srv/conda/envs/notebook/lib/python3.7/site-packages/xarray/core/indexing.py\u001b[0m in \u001b[0;36mremap_label_indexers\u001b[0;34m(data_obj, indexers, method, tolerance)\u001b[0m\n\u001b[1;32m    105\u001b[0m \u001b[0;34m\u001b[0m\u001b[0m\n\u001b[1;32m    106\u001b[0m     indexes, grouped_indexers = group_indexers_by_index(\n\u001b[0;32m--> 107\u001b[0;31m         \u001b[0mdata_obj\u001b[0m\u001b[0;34m,\u001b[0m \u001b[0mindexers\u001b[0m\u001b[0;34m,\u001b[0m \u001b[0mmethod\u001b[0m\u001b[0;34m,\u001b[0m \u001b[0mtolerance\u001b[0m\u001b[0;34m\u001b[0m\u001b[0;34m\u001b[0m\u001b[0m\n\u001b[0m\u001b[1;32m    108\u001b[0m     )\n\u001b[1;32m    109\u001b[0m \u001b[0;34m\u001b[0m\u001b[0m\n",
      "\u001b[0;32m/srv/conda/envs/notebook/lib/python3.7/site-packages/xarray/core/indexing.py\u001b[0m in \u001b[0;36mgroup_indexers_by_index\u001b[0;34m(data_obj, indexers, method, tolerance)\u001b[0m\n\u001b[1;32m     80\u001b[0m                 \u001b[0;32mraise\u001b[0m \u001b[0mKeyError\u001b[0m\u001b[0;34m(\u001b[0m\u001b[0;34mf\"no index found for coordinate {key}\"\u001b[0m\u001b[0;34m)\u001b[0m\u001b[0;34m\u001b[0m\u001b[0;34m\u001b[0m\u001b[0m\n\u001b[1;32m     81\u001b[0m             \u001b[0;32melif\u001b[0m \u001b[0mkey\u001b[0m \u001b[0;32mnot\u001b[0m \u001b[0;32min\u001b[0m \u001b[0mdata_obj\u001b[0m\u001b[0;34m.\u001b[0m\u001b[0mdims\u001b[0m\u001b[0;34m:\u001b[0m\u001b[0;34m\u001b[0m\u001b[0;34m\u001b[0m\u001b[0m\n\u001b[0;32m---> 82\u001b[0;31m                 \u001b[0;32mraise\u001b[0m \u001b[0mKeyError\u001b[0m\u001b[0;34m(\u001b[0m\u001b[0;34mf\"{key} is not a valid dimension or coordinate\"\u001b[0m\u001b[0;34m)\u001b[0m\u001b[0;34m\u001b[0m\u001b[0;34m\u001b[0m\u001b[0m\n\u001b[0m\u001b[1;32m     83\u001b[0m             \u001b[0;31m# key is a dimension without coordinate: we'll reuse the provided labels\u001b[0m\u001b[0;34m\u001b[0m\u001b[0;34m\u001b[0m\u001b[0;34m\u001b[0m\u001b[0m\n\u001b[1;32m     84\u001b[0m             \u001b[0;32melif\u001b[0m \u001b[0mmethod\u001b[0m \u001b[0;32mis\u001b[0m \u001b[0;32mnot\u001b[0m \u001b[0;32mNone\u001b[0m \u001b[0;32mor\u001b[0m \u001b[0mtolerance\u001b[0m \u001b[0;32mis\u001b[0m \u001b[0;32mnot\u001b[0m \u001b[0;32mNone\u001b[0m\u001b[0;34m:\u001b[0m\u001b[0;34m\u001b[0m\u001b[0;34m\u001b[0m\u001b[0m\n",
      "\u001b[0;31mKeyError\u001b[0m: 'Time is not a valid dimension or coordinate'"
     ]
    }
   ],
   "source": [
    "import xarray as xr\n",
    "import matplotlib.pyplot as plt \n",
    "from datetime import datetime\n",
    "\n",
    "# Open the Zarr dataset\n",
    "mapper = fsspec.get_mapper('s3://gstp-benchmark/zarr/s2/S2A_MSIL1C_20200804T110631_N0209_R137_T30TTK_20200804T113847.zarr/', anon=True)\n",
    "dataset = xr.open_zarr(mapper)\n",
    "\n",
    "# Subset on the time axis\n",
    "time = datetime.fromisoformat('2020-08-04T11:38:47').timestamp()\n",
    "subset = dataset['Band1'].sel(Time=time).compute()\n",
    "\n",
    "# Generate the plot from the subset (pseudocolor plot using predefined colormap 'terrain')\n",
    "subset.plot.pcolormesh(cmap='terrain')\n",
    "\n",
    "# Save figure to PNG file.\n",
    "plt.savefig('E:\\\\test\\\\Satellite_images\\\\s2\\\\test_export_terrain.png')\n"
   ]
  },
  {
   "cell_type": "code",
   "execution_count": 12,
   "id": "0e741d77-5915-4658-956d-a567f6bf818f",
   "metadata": {},
   "outputs": [
    {
     "name": "stdout",
     "output_type": "stream",
     "text": [
      "<xarray.Dataset>\n",
      "Dimensions:    (Time: 10, Latitude: 10980, Longitude: 10980)\n",
      "Coordinates:\n",
      "  * Latitude   (Latitude) float64 4.5e+06 4.5e+06 4.5e+06 ... 4.39e+06 4.39e+06\n",
      "  * Longitude  (Longitude) float64 2e+05 2e+05 2e+05 ... 3.098e+05 3.098e+05\n",
      "  * Time       (Time) datetime64[ms] 2020-08-04T11:38:47 ... 2020-11-12T13:25:51\n",
      "Data variables:\n",
      "    Band1      (Time, Latitude, Longitude) float32 ...\n",
      "    Band2      (Time, Latitude, Longitude) float32 ...\n",
      "    Band3      (Time, Latitude, Longitude) float32 ...\n",
      "    Band4      (Time, Latitude, Longitude) float32 ...\n",
      "Coordinates:  Coordinates:\n",
      "  * Latitude   (Latitude) float64 4.5e+06 4.5e+06 4.5e+06 ... 4.39e+06 4.39e+06\n",
      "  * Longitude  (Longitude) float64 2e+05 2e+05 2e+05 ... 3.098e+05 3.098e+05\n",
      "  * Time       (Time) datetime64[ms] 2020-08-04T11:38:47 ... 2020-11-12T13:25:51\n",
      "Attributes:  {}\n"
     ]
    }
   ],
   "source": [
    "import xarray as xr\n",
    "\n",
    "# Open the Zarr dataset.\n",
    "mapper = fsspec.get_mapper('s3://gstp-benchmark/zarr/s2_hypercube.zarr/', anon=True)\n",
    "dataset = xr.open_zarr(mapper)\n",
    "\n",
    "# Display dataset metadata in the Standard output\n",
    "print(dataset)\n",
    "# Display only dataset coordinates\n",
    "print(\"Coordinates: \",dataset.coords)\n",
    "# Display only dataset attributes\n",
    "print(\"Attributes: \",dataset.attrs)\n",
    "\n",
    "\n",
    "\n"
   ]
  },
  {
   "cell_type": "markdown",
   "id": "307f47ec-5deb-42c8-9e30-222b99bc2d47",
   "metadata": {},
   "source": [
    "## Metadata"
   ]
  },
  {
   "cell_type": "code",
   "execution_count": 15,
   "id": "56e1439f-9820-4e9f-9279-850a887a9842",
   "metadata": {},
   "outputs": [
    {
     "name": "stdout",
     "output_type": "stream",
     "text": [
      "<xarray.Dataset>\n",
      "Dimensions:  (Y: 10980, X: 10980)\n",
      "Coordinates:\n",
      "  * X        (X) float64 2e+05 2e+05 2e+05 ... 3.098e+05 3.098e+05 3.098e+05\n",
      "  * Y        (Y) float64 4.5e+06 4.5e+06 4.5e+06 ... 4.39e+06 4.39e+06 4.39e+06\n",
      "Data variables:\n",
      "    Band1    (Y, X) uint16 ...\n",
      "    Band2    (Y, X) uint16 ...\n",
      "    Band3    (Y, X) uint16 ...\n",
      "    Band4    (Y, X) uint16 ...\n",
      "Coordinates:  Coordinates:\n",
      "  * X        (X) float64 2e+05 2e+05 2e+05 ... 3.098e+05 3.098e+05 3.098e+05\n",
      "  * Y        (Y) float64 4.5e+06 4.5e+06 4.5e+06 ... 4.39e+06 4.39e+06 4.39e+06\n",
      "Attributes:  {}\n"
     ]
    }
   ],
   "source": [
    "import xarray as xr\n",
    "\n",
    "# Open the Zarr dataset.\n",
    "mapper = fsspec.get_mapper('s3://gstp-benchmark/zarr/s2/S2A_MSIL1C_20200804T110631_N0209_R137_T30TTK_20200804T113847.zarr/', anon=True)\n",
    "dataset = xr.open_zarr(mapper)\n",
    "\n",
    "# Display dataset metadata in the Standard output\n",
    "print(dataset)\n",
    "# Display only dataset coordinates\n",
    "print(\"Coordinates: \",dataset.coords)\n",
    "# Display only dataset attributes\n",
    "print(\"Attributes: \",dataset.attrs)\n",
    "\n",
    "\n"
   ]
  },
  {
   "cell_type": "code",
   "execution_count": 12,
   "id": "3b513b6d-87fe-47e3-9db8-ef4d44f51f1f",
   "metadata": {},
   "outputs": [
    {
     "ename": "KeyError",
     "evalue": "'.zmetadata'",
     "output_type": "error",
     "traceback": [
      "\u001b[0;31m---------------------------------------------------------------------------\u001b[0m",
      "\u001b[0;31mKeyError\u001b[0m                                  Traceback (most recent call last)",
      "\u001b[0;32m/tmp/ipykernel_82/2769006610.py\u001b[0m in \u001b[0;36m<module>\u001b[0;34m\u001b[0m\n\u001b[1;32m      4\u001b[0m \u001b[0;34m\u001b[0m\u001b[0m\n\u001b[1;32m      5\u001b[0m \u001b[0;31m# Open the Zarr dataset\u001b[0m\u001b[0;34m\u001b[0m\u001b[0;34m\u001b[0m\u001b[0;34m\u001b[0m\u001b[0m\n\u001b[0;32m----> 6\u001b[0;31m \u001b[0mdataset\u001b[0m \u001b[0;34m=\u001b[0m \u001b[0mxr\u001b[0m\u001b[0;34m.\u001b[0m\u001b[0mopen_zarr\u001b[0m\u001b[0;34m(\u001b[0m\u001b[0;34m'E:\\\\test\\\\Satellite_images\\\\GSTP\\\\s2_hypercube.zarr'\u001b[0m\u001b[0;34m,\u001b[0m \u001b[0mconsolidated\u001b[0m\u001b[0;34m=\u001b[0m\u001b[0;32mTrue\u001b[0m\u001b[0;34m)\u001b[0m\u001b[0;34m\u001b[0m\u001b[0;34m\u001b[0m\u001b[0m\n\u001b[0m\u001b[1;32m      7\u001b[0m \u001b[0;34m\u001b[0m\u001b[0m\n\u001b[1;32m      8\u001b[0m \u001b[0;31m# Groub by month\u001b[0m\u001b[0;34m\u001b[0m\u001b[0;34m\u001b[0m\u001b[0;34m\u001b[0m\u001b[0m\n",
      "\u001b[0;32m/srv/conda/envs/notebook/lib/python3.7/site-packages/xarray/backends/zarr.py\u001b[0m in \u001b[0;36mopen_zarr\u001b[0;34m(store, group, synchronizer, chunks, decode_cf, mask_and_scale, decode_times, concat_characters, decode_coords, drop_variables, consolidated, overwrite_encoded_chunks, chunk_store, storage_options, decode_timedelta, use_cftime, **kwargs)\u001b[0m\n\u001b[1;32m    781\u001b[0m         \u001b[0mbackend_kwargs\u001b[0m\u001b[0;34m=\u001b[0m\u001b[0mbackend_kwargs\u001b[0m\u001b[0;34m,\u001b[0m\u001b[0;34m\u001b[0m\u001b[0;34m\u001b[0m\u001b[0m\n\u001b[1;32m    782\u001b[0m         \u001b[0mdecode_timedelta\u001b[0m\u001b[0;34m=\u001b[0m\u001b[0mdecode_timedelta\u001b[0m\u001b[0;34m,\u001b[0m\u001b[0;34m\u001b[0m\u001b[0;34m\u001b[0m\u001b[0m\n\u001b[0;32m--> 783\u001b[0;31m         \u001b[0muse_cftime\u001b[0m\u001b[0;34m=\u001b[0m\u001b[0muse_cftime\u001b[0m\u001b[0;34m,\u001b[0m\u001b[0;34m\u001b[0m\u001b[0;34m\u001b[0m\u001b[0m\n\u001b[0m\u001b[1;32m    784\u001b[0m     )\n\u001b[1;32m    785\u001b[0m     \u001b[0;32mreturn\u001b[0m \u001b[0mds\u001b[0m\u001b[0;34m\u001b[0m\u001b[0;34m\u001b[0m\u001b[0m\n",
      "\u001b[0;32m/srv/conda/envs/notebook/lib/python3.7/site-packages/xarray/backends/api.py\u001b[0m in \u001b[0;36mopen_dataset\u001b[0;34m(filename_or_obj, engine, chunks, cache, decode_cf, mask_and_scale, decode_times, decode_timedelta, use_cftime, concat_characters, decode_coords, drop_variables, backend_kwargs, *args, **kwargs)\u001b[0m\n\u001b[1;32m    499\u001b[0m         \u001b[0mdrop_variables\u001b[0m\u001b[0;34m=\u001b[0m\u001b[0mdrop_variables\u001b[0m\u001b[0;34m,\u001b[0m\u001b[0;34m\u001b[0m\u001b[0;34m\u001b[0m\u001b[0m\n\u001b[1;32m    500\u001b[0m         \u001b[0;34m**\u001b[0m\u001b[0mdecoders\u001b[0m\u001b[0;34m,\u001b[0m\u001b[0;34m\u001b[0m\u001b[0;34m\u001b[0m\u001b[0m\n\u001b[0;32m--> 501\u001b[0;31m         \u001b[0;34m**\u001b[0m\u001b[0mkwargs\u001b[0m\u001b[0;34m,\u001b[0m\u001b[0;34m\u001b[0m\u001b[0;34m\u001b[0m\u001b[0m\n\u001b[0m\u001b[1;32m    502\u001b[0m     )\n\u001b[1;32m    503\u001b[0m     ds = _dataset_from_backend_dataset(\n",
      "\u001b[0;32m/srv/conda/envs/notebook/lib/python3.7/site-packages/xarray/backends/zarr.py\u001b[0m in \u001b[0;36mopen_dataset\u001b[0;34m(self, filename_or_obj, mask_and_scale, decode_times, concat_characters, decode_coords, drop_variables, use_cftime, decode_timedelta, group, mode, synchronizer, consolidated, chunk_store, storage_options, stacklevel, lock)\u001b[0m\n\u001b[1;32m    833\u001b[0m             \u001b[0mchunk_store\u001b[0m\u001b[0;34m=\u001b[0m\u001b[0mchunk_store\u001b[0m\u001b[0;34m,\u001b[0m\u001b[0;34m\u001b[0m\u001b[0;34m\u001b[0m\u001b[0m\n\u001b[1;32m    834\u001b[0m             \u001b[0mstorage_options\u001b[0m\u001b[0;34m=\u001b[0m\u001b[0mstorage_options\u001b[0m\u001b[0;34m,\u001b[0m\u001b[0;34m\u001b[0m\u001b[0;34m\u001b[0m\u001b[0m\n\u001b[0;32m--> 835\u001b[0;31m             \u001b[0mstacklevel\u001b[0m\u001b[0;34m=\u001b[0m\u001b[0mstacklevel\u001b[0m \u001b[0;34m+\u001b[0m \u001b[0;36m1\u001b[0m\u001b[0;34m,\u001b[0m\u001b[0;34m\u001b[0m\u001b[0;34m\u001b[0m\u001b[0m\n\u001b[0m\u001b[1;32m    836\u001b[0m         )\n\u001b[1;32m    837\u001b[0m \u001b[0;34m\u001b[0m\u001b[0m\n",
      "\u001b[0;32m/srv/conda/envs/notebook/lib/python3.7/site-packages/xarray/backends/zarr.py\u001b[0m in \u001b[0;36mopen_group\u001b[0;34m(cls, store, mode, synchronizer, group, consolidated, consolidate_on_close, chunk_store, storage_options, append_dim, write_region, safe_chunks, stacklevel)\u001b[0m\n\u001b[1;32m    387\u001b[0m         \u001b[0;32melif\u001b[0m \u001b[0mconsolidated\u001b[0m\u001b[0;34m:\u001b[0m\u001b[0;34m\u001b[0m\u001b[0;34m\u001b[0m\u001b[0m\n\u001b[1;32m    388\u001b[0m             \u001b[0;31m# TODO: an option to pass the metadata_key keyword\u001b[0m\u001b[0;34m\u001b[0m\u001b[0;34m\u001b[0m\u001b[0;34m\u001b[0m\u001b[0m\n\u001b[0;32m--> 389\u001b[0;31m             \u001b[0mzarr_group\u001b[0m \u001b[0;34m=\u001b[0m \u001b[0mzarr\u001b[0m\u001b[0;34m.\u001b[0m\u001b[0mopen_consolidated\u001b[0m\u001b[0;34m(\u001b[0m\u001b[0mstore\u001b[0m\u001b[0;34m,\u001b[0m \u001b[0;34m**\u001b[0m\u001b[0mopen_kwargs\u001b[0m\u001b[0;34m)\u001b[0m\u001b[0;34m\u001b[0m\u001b[0;34m\u001b[0m\u001b[0m\n\u001b[0m\u001b[1;32m    390\u001b[0m         \u001b[0;32melse\u001b[0m\u001b[0;34m:\u001b[0m\u001b[0;34m\u001b[0m\u001b[0;34m\u001b[0m\u001b[0m\n\u001b[1;32m    391\u001b[0m             \u001b[0mzarr_group\u001b[0m \u001b[0;34m=\u001b[0m \u001b[0mzarr\u001b[0m\u001b[0;34m.\u001b[0m\u001b[0mopen_group\u001b[0m\u001b[0;34m(\u001b[0m\u001b[0mstore\u001b[0m\u001b[0;34m,\u001b[0m \u001b[0;34m**\u001b[0m\u001b[0mopen_kwargs\u001b[0m\u001b[0;34m)\u001b[0m\u001b[0;34m\u001b[0m\u001b[0;34m\u001b[0m\u001b[0m\n",
      "\u001b[0;32m/srv/conda/envs/notebook/lib/python3.7/site-packages/zarr/convenience.py\u001b[0m in \u001b[0;36mopen_consolidated\u001b[0;34m(store, metadata_key, mode, **kwargs)\u001b[0m\n\u001b[1;32m   1181\u001b[0m \u001b[0;34m\u001b[0m\u001b[0m\n\u001b[1;32m   1182\u001b[0m     \u001b[0;31m# setup metadata store\u001b[0m\u001b[0;34m\u001b[0m\u001b[0;34m\u001b[0m\u001b[0;34m\u001b[0m\u001b[0m\n\u001b[0;32m-> 1183\u001b[0;31m     \u001b[0mmeta_store\u001b[0m \u001b[0;34m=\u001b[0m \u001b[0mConsolidatedMetadataStore\u001b[0m\u001b[0;34m(\u001b[0m\u001b[0mstore\u001b[0m\u001b[0;34m,\u001b[0m \u001b[0mmetadata_key\u001b[0m\u001b[0;34m=\u001b[0m\u001b[0mmetadata_key\u001b[0m\u001b[0;34m)\u001b[0m\u001b[0;34m\u001b[0m\u001b[0;34m\u001b[0m\u001b[0m\n\u001b[0m\u001b[1;32m   1184\u001b[0m \u001b[0;34m\u001b[0m\u001b[0m\n\u001b[1;32m   1185\u001b[0m     \u001b[0;31m# pass through\u001b[0m\u001b[0;34m\u001b[0m\u001b[0;34m\u001b[0m\u001b[0;34m\u001b[0m\u001b[0m\n",
      "\u001b[0;32m/srv/conda/envs/notebook/lib/python3.7/site-packages/zarr/storage.py\u001b[0m in \u001b[0;36m__init__\u001b[0;34m(self, store, metadata_key)\u001b[0m\n\u001b[1;32m   2588\u001b[0m \u001b[0;34m\u001b[0m\u001b[0m\n\u001b[1;32m   2589\u001b[0m         \u001b[0;31m# retrieve consolidated metadata\u001b[0m\u001b[0;34m\u001b[0m\u001b[0;34m\u001b[0m\u001b[0;34m\u001b[0m\u001b[0m\n\u001b[0;32m-> 2590\u001b[0;31m         \u001b[0mmeta\u001b[0m \u001b[0;34m=\u001b[0m \u001b[0mjson_loads\u001b[0m\u001b[0;34m(\u001b[0m\u001b[0mstore\u001b[0m\u001b[0;34m[\u001b[0m\u001b[0mmetadata_key\u001b[0m\u001b[0;34m]\u001b[0m\u001b[0;34m)\u001b[0m\u001b[0;34m\u001b[0m\u001b[0;34m\u001b[0m\u001b[0m\n\u001b[0m\u001b[1;32m   2591\u001b[0m \u001b[0;34m\u001b[0m\u001b[0m\n\u001b[1;32m   2592\u001b[0m         \u001b[0;31m# check format of consolidated metadata\u001b[0m\u001b[0;34m\u001b[0m\u001b[0;34m\u001b[0m\u001b[0;34m\u001b[0m\u001b[0m\n",
      "\u001b[0;32m/srv/conda/envs/notebook/lib/python3.7/site-packages/zarr/storage.py\u001b[0m in \u001b[0;36m__getitem__\u001b[0;34m(self, key)\u001b[0m\n\u001b[1;32m    845\u001b[0m             \u001b[0;32mreturn\u001b[0m \u001b[0mself\u001b[0m\u001b[0;34m.\u001b[0m\u001b[0m_fromfile\u001b[0m\u001b[0;34m(\u001b[0m\u001b[0mfilepath\u001b[0m\u001b[0;34m)\u001b[0m\u001b[0;34m\u001b[0m\u001b[0;34m\u001b[0m\u001b[0m\n\u001b[1;32m    846\u001b[0m         \u001b[0;32melse\u001b[0m\u001b[0;34m:\u001b[0m\u001b[0;34m\u001b[0m\u001b[0;34m\u001b[0m\u001b[0m\n\u001b[0;32m--> 847\u001b[0;31m             \u001b[0;32mraise\u001b[0m \u001b[0mKeyError\u001b[0m\u001b[0;34m(\u001b[0m\u001b[0mkey\u001b[0m\u001b[0;34m)\u001b[0m\u001b[0;34m\u001b[0m\u001b[0;34m\u001b[0m\u001b[0m\n\u001b[0m\u001b[1;32m    848\u001b[0m \u001b[0;34m\u001b[0m\u001b[0m\n\u001b[1;32m    849\u001b[0m     \u001b[0;32mdef\u001b[0m \u001b[0m__setitem__\u001b[0m\u001b[0;34m(\u001b[0m\u001b[0mself\u001b[0m\u001b[0;34m,\u001b[0m \u001b[0mkey\u001b[0m\u001b[0;34m,\u001b[0m \u001b[0mvalue\u001b[0m\u001b[0;34m)\u001b[0m\u001b[0;34m:\u001b[0m\u001b[0;34m\u001b[0m\u001b[0;34m\u001b[0m\u001b[0m\n",
      "\u001b[0;31mKeyError\u001b[0m: '.zmetadata'"
     ]
    }
   ],
   "source": [
    "import xarray as xr\n",
    "import matplotlib.pyplot as plt \n",
    "from datetime import datetime\n",
    "\n",
    "# Open the Zarr dataset\n",
    "dataset = xr.open_zarr('E:\\\\test\\\\Satellite_images\\\\GSTP\\\\s2_hypercube.zarr', consolidated=True)\n",
    "\n",
    "# Groub by month\n",
    "b04 = dataset['Band3'].groupby(\"Time.month\").mean(\"Time\").isel(month=0)\n",
    "print(\"Subset: \", b04)\n",
    "\n",
    "b08 = dataset['Band4'].groupby(\"Time.month\").mean(\"Time\").isel(month=0)\n",
    "print(\"Subset: \", b08)\n",
    "\n",
    "\n",
    "ndvi = (b08 - b04) / (b08 + b04)\n",
    "\n",
    "# Generate the plot from the subset (pseudocolor plot using predefined colormap 'terrain')\n",
    "ndvi.plot.pcolormesh(cmap='terrain')\n",
    "\n",
    "# Save figure to PNG file.\n",
    "plt.savefig('E:\\\\test\\\\Satellite_images\\\\s2\\\\test_ndvi.png')\n"
   ]
  },
  {
   "cell_type": "code",
   "execution_count": null,
   "id": "4edfd4b6-7223-47af-8595-e42673b56a7b",
   "metadata": {},
   "outputs": [],
   "source": [
    "# https://gis.stackexchange.com/questions/290138/extracting-values-at-specific-latitude-longitude-from-modis-swath-data\n",
    "import xarray as xr\n",
    "import numpy as np\n",
    "\n",
    "dataset = xr.open_zarr('E:\\\\test\\\\Satellite_images\\\\GSTP\\\\prisma\\\\spain\\\\wavelength\\\\20200804111827.zarr')\n",
    "print(dataset)\n",
    "\n",
    "#Compute desired Lat/Lon indexes from SWATH structure\n",
    "long_obs = -5.9 \n",
    "lat_obs = 39.9 \n",
    "Longitude =  dataset.longitude.data.compute()\n",
    "Latitude =  dataset.latitude.data.compute()\n",
    "coordinates = np.unravel_index((np.abs(Latitude - lat_obs) + np.abs(Longitude - long_obs)).argmin(), Latitude.shape)\n",
    "print(coordinates)\n",
    "\n",
    "#Apply subsetting\n",
    "subset = dataset['cube'].sel(yc=coordinates[0], xc=coordinates[1], wavelength=slice(400,800)).compute()\n",
    "print(subset)\n",
    "#Apply mean function on the subsetted data.\n",
    "result = np.mean(subset)\n",
    "print('Mean: ', result.data)"
   ]
  },
  {
   "cell_type": "code",
   "execution_count": null,
   "id": "49c62747-be26-4ff5-9311-f3389614c344",
   "metadata": {},
   "outputs": [],
   "source": [
    "# Test reprojection from UTM30 to EPSG4326 with cartopy\n",
    "\n",
    "import cartopy\n",
    "\n",
    "src_crs = cartopy.crs.Geodetic() # Geodetic WGS84\n",
    "dest_crs = cartopy.crs.UTM(30) # UTM Zone 30\n",
    "points = src_crs.transform_point(199995,4499985,dest_crs) # Transform UTM Zone 30 coordinates to WGS 84\n",
    "print(points)\n",
    "\n",
    "import xarray as xr\n",
    "from pyproj import Transformer\n",
    "\n",
    "# Retrieve dataset and coordinates\n",
    "dataset = xr.open_zarr('E:\\\\test\\\\Satellite_images\\\\s2\\\\out.zarr', consolidated=True)\n",
    "lat = dataset.Latitude.data\n",
    "lon = dataset.Longitude.data\n",
    "\n",
    "# Reproject coordinates\n",
    "transformer = Transformer.from_crs(32630, 4326) # UTM30 to EPSG 4326\n",
    "latlon_reprojected = transformer.transform(lon,lat) #Reproject lat lon\n",
    "new_lon = latlon_reprojected[0]\n",
    "new_lat = latlon_reprojected[1]\n",
    "\n",
    "# Assign reprojected coordinates\n",
    "dataset = dataset.assign_coords(Latitude=new_lat)\n",
    "dataset = dataset.assign_coords(Longitude=new_lon)\n",
    "dataset = dataset.assign_coords({\"Longitude\": new_lon, \"Latitude\": new_lat})\n",
    "\n",
    "# Save dataset\n",
    "dataset.to_zarr('E:\\\\test\\\\Satellite_images\\\\s2\\\\out_reprojected_4326.zarr')\n"
   ]
  },
  {
   "cell_type": "code",
   "execution_count": null,
   "id": "f9b88e30-6527-4337-939c-1235831329f7",
   "metadata": {},
   "outputs": [],
   "source": [
    "import xarray as xr\n",
    "import matplotlib.pyplot as plt \n",
    "from datetime import datetime\n",
    "\n",
    "# Open the Zarr dataset.\n",
    "dataset = xr.open_zarr('E:\\\\test\\\\Satellite_images\\\\GSTP\\\\s2_hypercube.zarr', consolidated=True)\n",
    "\n",
    "# Slice on the time axis of a specific geographial point.\n",
    "start = datetime.fromisoformat(\"2020-08-01\")\n",
    "end = datetime.fromisoformat(\"2020-08-31\")\n",
    "timeserie = dataset['Band1'].sel(Time=slice(start,end), Longitude=199995, Latitude=4499985).compute()\n",
    "print(timeserie)\n",
    "\n",
    "# Generate the plot from the timeserie.\n",
    "timeserie.plot.line(marker=\"o\")\n",
    "\n",
    "# Save figure to PNG file.\n",
    "plt.savefig('E:\\\\test\\\\Satellite_images\\\\s2\\\\test_timeserie.png')\n",
    "\n"
   ]
  },
  {
   "cell_type": "code",
   "execution_count": null,
   "id": "01f1921d-13b2-4145-8950-6ab753e21e9c",
   "metadata": {},
   "outputs": [],
   "source": [
    "import xarray as xr\n",
    "import matplotlib.pyplot as plt \n",
    "from datetime import datetime\n",
    "\n",
    "# Open the Zarr dataset\n",
    "dataset = xr.open_zarr('E:\\\\test\\\\Satellite_images\\\\GSTP\\\\s2_hypercube.zarr', consolidated=True)\n",
    "\n",
    "# Regroup on the time axis\n",
    "mean = dataset['Band1'].groupby(\"Time.month\").mean(\"Time\")\n",
    "\n",
    "print(mean)\n",
    "\n",
    "subset = mean.isel(month=1)\n",
    "\n",
    "print(\"Subset: \", subset)\n",
    "\n",
    "# Generate the plot from the subset (pseudocolor plot using predefined colormap 'terrain')\n",
    "subset.plot.pcolormesh(cmap='terrain')\n",
    "\n",
    "# Save figure to PNG file.\n",
    "plt.savefig('E:\\\\test\\\\Satellite_images\\\\s2\\\\test_time_mean.png')\n"
   ]
  },
  {
   "cell_type": "code",
   "execution_count": null,
   "id": "c729b553-2d79-4323-8974-1bf169e43103",
   "metadata": {},
   "outputs": [],
   "source": [
    "import xarray as xr\n",
    "import matplotlib.pyplot as plt\n",
    "\n",
    "# Open the Zarr dataset\n",
    "dataset = xr.open_zarr('E:\\\\test\\\\Satellite_images\\\\s2\\\\out.zarr', consolidated=True)\n",
    "\n",
    "# Resample on Longitude and Latitude by 4 times (mean function used for resampling)\n",
    "resampled = dataset.coarsen(Longitude=4, Latitude=4).mean()\n",
    "\n",
    "# Generate the plot from the subset (pseudocolor plot using predefined colormap 'terrain')\n",
    "resampled['Band1'].isel(Time=0).plot.pcolormesh(cmap='terrain')\n",
    "\n",
    "# Save figure to PNG file.\n",
    "plt.savefig('E:\\\\test\\\\Satellite_images\\\\s2\\\\test_resampled.png')\n"
   ]
  },
  {
   "cell_type": "code",
   "execution_count": null,
   "id": "51239e6f",
   "metadata": {},
   "outputs": [],
   "source": []
  }
 ],
 "metadata": {
  "kernelspec": {
   "display_name": "Python 3 (ipykernel)",
   "language": "python",
   "name": "python3"
  },
  "language_info": {
   "codemirror_mode": {
    "name": "ipython",
    "version": 3
   },
   "file_extension": ".py",
   "mimetype": "text/x-python",
   "name": "python",
   "nbconvert_exporter": "python",
   "pygments_lexer": "ipython3",
   "version": "3.7.10"
  }
 },
 "nbformat": 4,
 "nbformat_minor": 5
}
