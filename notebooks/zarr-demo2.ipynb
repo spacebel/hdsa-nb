{
 "cells": [
  {
   "cell_type": "markdown",
   "id": "57fb14f8-5475-453d-8640-096e24f97455",
   "metadata": {},
   "source": [
    "## Import"
   ]
  },
  {
   "cell_type": "code",
   "execution_count": 2,
   "id": "2a482c86-8dcf-4ba8-86ac-048ada95e167",
   "metadata": {},
   "outputs": [],
   "source": [
    "import xarray as xr\n",
    "import fsspec\n",
    "import matplotlib.pyplot as p\n",
    "import numpy as nc\n",
    "from datetime import datetime"
   ]
  },
  {
   "cell_type": "markdown",
   "id": "2995db91-b150-4260-a479-485a607d5773",
   "metadata": {},
   "source": [
    "## Display Metadata\n"
   ]
  },
  {
   "cell_type": "code",
   "execution_count": 3,
   "id": "be598662-abff-4152-9119-e85b0eb87ad5",
   "metadata": {},
   "outputs": [
    {
     "name": "stdout",
     "output_type": "stream",
     "text": [
      "<xarray.Dataset>\n",
      "Dimensions:    (Time: 10, Latitude: 10980, Longitude: 10980)\n",
      "Coordinates:\n",
      "  * Latitude   (Latitude) float64 4.5e+06 4.5e+06 4.5e+06 ... 4.39e+06 4.39e+06\n",
      "  * Longitude  (Longitude) float64 2e+05 2e+05 2e+05 ... 3.098e+05 3.098e+05\n",
      "  * Time       (Time) datetime64[ms] 2020-08-04T11:38:47 ... 2020-11-12T13:25:51\n",
      "Data variables:\n",
      "    Band1      (Time, Latitude, Longitude) float32 ...\n",
      "    Band2      (Time, Latitude, Longitude) float32 ...\n",
      "    Band3      (Time, Latitude, Longitude) float32 ...\n",
      "    Band4      (Time, Latitude, Longitude) float32 ...\n"
     ]
    }
   ],
   "source": [
    "# Open the Zarr dataset.\n",
    "mapper = fsspec.get_mapper('s3://gstp-benchmark/zarr/s2_hypercube.zarr/', anon=True)\n",
    "dataset = xr.open_zarr(mapper)\n",
    "# Display dataset metadata in the Standard output\n",
    "print(dataset)"
   ]
  },
  {
   "cell_type": "markdown",
   "id": "47f2563b-fb73-49aa-8bc5-7412a36ec11c",
   "metadata": {},
   "source": [
    "## Point -Average values per month, per year"
   ]
  },
  {
   "cell_type": "code",
   "execution_count": 4,
   "id": "2432bae8-faab-4ac9-b572-fa3c07765185",
   "metadata": {},
   "outputs": [
    {
     "name": "stdout",
     "output_type": "stream",
     "text": [
      "4 month means: [ 422.5 1543.  1006.  1038.5]\n",
      "1 year mean: [1056.9]\n"
     ]
    }
   ],
   "source": [
    "# Regroup on the time axis\n",
    "point = dataset['Band1'].sel(Longitude=199995, Latitude=4499985)\n",
    "monthMeans = point.groupby(\"Time.month\").mean(\"Time\").data\n",
    "yearMean=point.groupby(\"Time.year\").mean(\"Time\").data\n",
    "print('4 month means:', monthMeans)\n",
    "print('1 year mean:', yearMean)"
   ]
  },
  {
   "cell_type": "markdown",
   "id": "cb94499d-c901-4c82-a983-7f2804a327bf",
   "metadata": {},
   "source": [
    "## Display a region - Single Time Instance"
   ]
  },
  {
   "cell_type": "code",
   "execution_count": null,
   "id": "b6bdba0e-bec4-4961-8ab6-70f4223b9449",
   "metadata": {},
   "outputs": [],
   "source": [
    "dataset['Band1'].isel(Longitude=slice(0,10), Latitude=slice(0,10),Time=5).plot.pcolormesh(cmap='terrain')"
   ]
  },
  {
   "cell_type": "markdown",
   "id": "ae2311d0-8b3a-46eb-9c23-067c7c615217",
   "metadata": {},
   "source": [
    "## Display Region - Average value over time"
   ]
  },
  {
   "cell_type": "code",
   "execution_count": 5,
   "id": "82d5f0e8-7069-4a0c-8c1f-9bf73754885f",
   "metadata": {},
   "outputs": [
    {
     "data": {
      "text/plain": [
       "<matplotlib.collections.QuadMesh at 0x7fe51adb8f50>"
      ]
     },
     "execution_count": 5,
     "metadata": {},
     "output_type": "execute_result"
    },
    {
     "data": {
      "image/png": "[encoded data removed]",
      "text/plain": [
       "<Figure size 432x288 with 2 Axes>"
      ]
     },
     "metadata": {
      "needs_background": "light"
     },
     "output_type": "display_data"
    }
   ],
   "source": [
    "region = dataset['Band1'].isel(Longitude=slice(0,10), Latitude=slice(0,10))\n",
    "averageRegion = region.coarsen(Time=10).mean().isel(Time=0);\n",
    "averageRegion.plot.pcolormesh(cmap='terrain')\n"
   ]
  }
 ],
 "metadata": {
  "kernelspec": {
   "display_name": "Python 3 (ipykernel)",
   "language": "python",
   "name": "python3"
  },
  "language_info": {
   "codemirror_mode": {
    "name": "ipython",
    "version": 3
   },
   "file_extension": ".py",
   "mimetype": "text/x-python",
   "name": "python",
   "nbconvert_exporter": "python",
   "pygments_lexer": "ipython3",
   "version": "3.7.10"
  }
 },
 "nbformat": 4,
 "nbformat_minor": 5
}
